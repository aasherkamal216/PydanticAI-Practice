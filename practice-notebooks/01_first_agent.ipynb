{
 "cells": [
  {
   "cell_type": "code",
   "execution_count": 33,
   "metadata": {},
   "outputs": [],
   "source": [
    "from typing import Dict, List, Optional\n",
    "import nest_asyncio\n",
    "from pydantic import BaseModel, Field\n",
    "from pydantic_ai import Agent, ModelRetry, RunContext, Tool\n",
    "from pydantic_ai.models.gemini import GeminiModel\n",
    "import os\n",
    "from dotenv import load_dotenv\n",
    "load_dotenv()\n",
    "\n",
    "os.environ[\"GEMINI_API_KEY\"] = os.getenv(\"GEMINI_API_KEY\")\n",
    "nest_asyncio.apply()\n",
    "\n",
    "\n",
    "model = GeminiModel('gemini-1.5-pro')\n"
   ]
  },
  {
   "cell_type": "code",
   "execution_count": 8,
   "metadata": {},
   "outputs": [
    {
     "data": {
      "text/html": [
       "<pre style=\"white-space:pre;overflow-x:auto;line-height:normal;font-family:Menlo,'DejaVu Sans Mono',consolas,'Courier New',monospace\">Hi there!  You can track your order #<span style=\"color: #008080; text-decoration-color: #008080; font-weight: bold\">12345</span> here: .  Let me know if you have any other questions.\n",
       "\n",
       "</pre>\n"
      ],
      "text/plain": [
       "Hi there!  You can track your order #\u001b[1;36m12345\u001b[0m here: .  Let me know if you have any other questions.\n",
       "\n"
      ]
     },
     "metadata": {},
     "output_type": "display_data"
    },
    {
     "data": {
      "text/html": [
       "<pre style=\"white-space:pre;overflow-x:auto;line-height:normal;font-family:Menlo,'DejaVu Sans Mono',consolas,'Courier New',monospace\"><span style=\"font-weight: bold\">[</span>\n",
       "    <span style=\"color: #800080; text-decoration-color: #800080; font-weight: bold\">ModelRequest</span><span style=\"font-weight: bold\">(</span>\n",
       "        <span style=\"color: #808000; text-decoration-color: #808000\">parts</span>=<span style=\"font-weight: bold\">[</span>\n",
       "            <span style=\"color: #800080; text-decoration-color: #800080; font-weight: bold\">SystemPromptPart</span><span style=\"font-weight: bold\">(</span>\n",
       "                <span style=\"color: #808000; text-decoration-color: #808000\">content</span>=<span style=\"color: #008000; text-decoration-color: #008000\">'You are a helpful customer support agent. Be concise and friendly.'</span>,\n",
       "                <span style=\"color: #808000; text-decoration-color: #808000\">dynamic_ref</span>=<span style=\"color: #800080; text-decoration-color: #800080; font-style: italic\">None</span>,\n",
       "                <span style=\"color: #808000; text-decoration-color: #808000\">part_kind</span>=<span style=\"color: #008000; text-decoration-color: #008000\">'system-prompt'</span>\n",
       "            <span style=\"font-weight: bold\">)</span>,\n",
       "            <span style=\"color: #800080; text-decoration-color: #800080; font-weight: bold\">UserPromptPart</span><span style=\"font-weight: bold\">(</span>\n",
       "                <span style=\"color: #808000; text-decoration-color: #808000\">content</span>=<span style=\"color: #008000; text-decoration-color: #008000\">'How can I track my order #12345?'</span>,\n",
       "                <span style=\"color: #808000; text-decoration-color: #808000\">timestamp</span>=<span style=\"color: #800080; text-decoration-color: #800080; font-weight: bold\">datetime</span><span style=\"color: #800080; text-decoration-color: #800080; font-weight: bold\">.datetime</span><span style=\"font-weight: bold\">(</span><span style=\"color: #008080; text-decoration-color: #008080; font-weight: bold\">2025</span>, <span style=\"color: #008080; text-decoration-color: #008080; font-weight: bold\">1</span>, <span style=\"color: #008080; text-decoration-color: #008080; font-weight: bold\">16</span>, <span style=\"color: #008080; text-decoration-color: #008080; font-weight: bold\">14</span>, <span style=\"color: #008080; text-decoration-color: #008080; font-weight: bold\">28</span>, <span style=\"color: #008080; text-decoration-color: #008080; font-weight: bold\">11</span>, <span style=\"color: #008080; text-decoration-color: #008080; font-weight: bold\">120566</span>, <span style=\"color: #808000; text-decoration-color: #808000\">tzinfo</span>=<span style=\"color: #800080; text-decoration-color: #800080\">datetime</span>.timezone.utc<span style=\"font-weight: bold\">)</span>,\n",
       "                <span style=\"color: #808000; text-decoration-color: #808000\">part_kind</span>=<span style=\"color: #008000; text-decoration-color: #008000\">'user-prompt'</span>\n",
       "            <span style=\"font-weight: bold\">)</span>\n",
       "        <span style=\"font-weight: bold\">]</span>,\n",
       "        <span style=\"color: #808000; text-decoration-color: #808000\">kind</span>=<span style=\"color: #008000; text-decoration-color: #008000\">'request'</span>\n",
       "    <span style=\"font-weight: bold\">)</span>,\n",
       "    <span style=\"color: #800080; text-decoration-color: #800080; font-weight: bold\">ModelResponse</span><span style=\"font-weight: bold\">(</span>\n",
       "        <span style=\"color: #808000; text-decoration-color: #808000\">parts</span>=<span style=\"font-weight: bold\">[</span>\n",
       "            <span style=\"color: #800080; text-decoration-color: #800080; font-weight: bold\">TextPart</span><span style=\"font-weight: bold\">(</span>\n",
       "                <span style=\"color: #808000; text-decoration-color: #808000\">content</span>=<span style=\"color: #008000; text-decoration-color: #008000\">'Hi there!  You can track your order #12345 here: [insert tracking link here].  Let me know</span>\n",
       "<span style=\"color: #008000; text-decoration-color: #008000\">if you have any other questions.\\n'</span>,\n",
       "                <span style=\"color: #808000; text-decoration-color: #808000\">part_kind</span>=<span style=\"color: #008000; text-decoration-color: #008000\">'text'</span>\n",
       "            <span style=\"font-weight: bold\">)</span>\n",
       "        <span style=\"font-weight: bold\">]</span>,\n",
       "        <span style=\"color: #808000; text-decoration-color: #808000\">timestamp</span>=<span style=\"color: #800080; text-decoration-color: #800080; font-weight: bold\">datetime</span><span style=\"color: #800080; text-decoration-color: #800080; font-weight: bold\">.datetime</span><span style=\"font-weight: bold\">(</span><span style=\"color: #008080; text-decoration-color: #008080; font-weight: bold\">2025</span>, <span style=\"color: #008080; text-decoration-color: #008080; font-weight: bold\">1</span>, <span style=\"color: #008080; text-decoration-color: #008080; font-weight: bold\">16</span>, <span style=\"color: #008080; text-decoration-color: #008080; font-weight: bold\">14</span>, <span style=\"color: #008080; text-decoration-color: #008080; font-weight: bold\">28</span>, <span style=\"color: #008080; text-decoration-color: #008080; font-weight: bold\">13</span>, <span style=\"color: #008080; text-decoration-color: #008080; font-weight: bold\">249145</span>, <span style=\"color: #808000; text-decoration-color: #808000\">tzinfo</span>=<span style=\"color: #800080; text-decoration-color: #800080\">datetime</span>.timezone.utc<span style=\"font-weight: bold\">)</span>,\n",
       "        <span style=\"color: #808000; text-decoration-color: #808000\">kind</span>=<span style=\"color: #008000; text-decoration-color: #008000\">'response'</span>\n",
       "    <span style=\"font-weight: bold\">)</span>\n",
       "<span style=\"font-weight: bold\">]</span>\n",
       "</pre>\n"
      ],
      "text/plain": [
       "\u001b[1m[\u001b[0m\n",
       "    \u001b[1;35mModelRequest\u001b[0m\u001b[1m(\u001b[0m\n",
       "        \u001b[33mparts\u001b[0m=\u001b[1m[\u001b[0m\n",
       "            \u001b[1;35mSystemPromptPart\u001b[0m\u001b[1m(\u001b[0m\n",
       "                \u001b[33mcontent\u001b[0m=\u001b[32m'You are a helpful customer support agent. Be concise and friendly.'\u001b[0m,\n",
       "                \u001b[33mdynamic_ref\u001b[0m=\u001b[3;35mNone\u001b[0m,\n",
       "                \u001b[33mpart_kind\u001b[0m=\u001b[32m'system-prompt'\u001b[0m\n",
       "            \u001b[1m)\u001b[0m,\n",
       "            \u001b[1;35mUserPromptPart\u001b[0m\u001b[1m(\u001b[0m\n",
       "                \u001b[33mcontent\u001b[0m=\u001b[32m'How can I track my order #12345?'\u001b[0m,\n",
       "                \u001b[33mtimestamp\u001b[0m=\u001b[1;35mdatetime\u001b[0m\u001b[1;35m.datetime\u001b[0m\u001b[1m(\u001b[0m\u001b[1;36m2025\u001b[0m, \u001b[1;36m1\u001b[0m, \u001b[1;36m16\u001b[0m, \u001b[1;36m14\u001b[0m, \u001b[1;36m28\u001b[0m, \u001b[1;36m11\u001b[0m, \u001b[1;36m120566\u001b[0m, \u001b[33mtzinfo\u001b[0m=\u001b[35mdatetime\u001b[0m.timezone.utc\u001b[1m)\u001b[0m,\n",
       "                \u001b[33mpart_kind\u001b[0m=\u001b[32m'user-prompt'\u001b[0m\n",
       "            \u001b[1m)\u001b[0m\n",
       "        \u001b[1m]\u001b[0m,\n",
       "        \u001b[33mkind\u001b[0m=\u001b[32m'request'\u001b[0m\n",
       "    \u001b[1m)\u001b[0m,\n",
       "    \u001b[1;35mModelResponse\u001b[0m\u001b[1m(\u001b[0m\n",
       "        \u001b[33mparts\u001b[0m=\u001b[1m[\u001b[0m\n",
       "            \u001b[1;35mTextPart\u001b[0m\u001b[1m(\u001b[0m\n",
       "                \u001b[33mcontent\u001b[0m=\u001b[32m'Hi there!  You can track your order #12345 here: \u001b[0m\u001b[32m[\u001b[0m\u001b[32minsert tracking link here\u001b[0m\u001b[32m]\u001b[0m\u001b[32m.  Let me know\u001b[0m\n",
       "\u001b[32mif you have any other questions.\\n'\u001b[0m,\n",
       "                \u001b[33mpart_kind\u001b[0m=\u001b[32m'text'\u001b[0m\n",
       "            \u001b[1m)\u001b[0m\n",
       "        \u001b[1m]\u001b[0m,\n",
       "        \u001b[33mtimestamp\u001b[0m=\u001b[1;35mdatetime\u001b[0m\u001b[1;35m.datetime\u001b[0m\u001b[1m(\u001b[0m\u001b[1;36m2025\u001b[0m, \u001b[1;36m1\u001b[0m, \u001b[1;36m16\u001b[0m, \u001b[1;36m14\u001b[0m, \u001b[1;36m28\u001b[0m, \u001b[1;36m13\u001b[0m, \u001b[1;36m249145\u001b[0m, \u001b[33mtzinfo\u001b[0m=\u001b[35mdatetime\u001b[0m.timezone.utc\u001b[1m)\u001b[0m,\n",
       "        \u001b[33mkind\u001b[0m=\u001b[32m'response'\u001b[0m\n",
       "    \u001b[1m)\u001b[0m\n",
       "\u001b[1m]\u001b[0m\n"
      ]
     },
     "metadata": {},
     "output_type": "display_data"
    },
    {
     "data": {
      "text/html": [
       "<pre style=\"white-space:pre;overflow-x:auto;line-height:normal;font-family:Menlo,'DejaVu Sans Mono',consolas,'Courier New',monospace\">Your previous question was how to track your order #<span style=\"color: #008080; text-decoration-color: #008080; font-weight: bold\">12345</span>.\n",
       "\n",
       "</pre>\n"
      ],
      "text/plain": [
       "Your previous question was how to track your order #\u001b[1;36m12345\u001b[0m.\n",
       "\n"
      ]
     },
     "metadata": {},
     "output_type": "display_data"
    }
   ],
   "source": [
    "# --------------------------------------------------------------\n",
    "# 1. Simple Agent - Hello World Example\n",
    "# --------------------------------------------------------------\n",
    "\"\"\"\n",
    "This example demonstrates the basic usage of PydanticAI agents.\n",
    "Key concepts:\n",
    "- Creating a basic agent with a system prompt\n",
    "- Running synchronous queries\n",
    "- Accessing response data, message history, and costs\n",
    "\"\"\"\n",
    "from rich import print\n",
    "\n",
    "agent1 = Agent(\n",
    "    model=model,\n",
    "    system_prompt=\"You are a helpful customer support agent. Be concise and friendly.\",\n",
    ")\n",
    "\n",
    "# Example usage of basic agent\n",
    "response = agent1.run_sync(\"How can I track my order #12345?\")\n",
    "print(response.data)\n",
    "print(response.all_messages())\n",
    "\n",
    "\n",
    "response2 = agent1.run_sync(\n",
    "    user_prompt=\"What was my previous question?\",\n",
    "    message_history=response.new_messages(),\n",
    ")\n",
    "print(response2.data)"
   ]
  },
  {
   "cell_type": "code",
   "execution_count": 11,
   "metadata": {},
   "outputs": [
    {
     "data": {
      "text/plain": [
       "[ModelRequest(parts=[UserPromptPart(content='What was my previous question?', timestamp=datetime.datetime(2025, 1, 16, 14, 28, 13, 384107, tzinfo=datetime.timezone.utc), part_kind='user-prompt')], kind='request'),\n",
       " ModelResponse(parts=[TextPart(content='Your previous question was how to track your order #12345.\\n', part_kind='text')], timestamp=datetime.datetime(2025, 1, 16, 14, 28, 13, 944820, tzinfo=datetime.timezone.utc), kind='response')]"
      ]
     },
     "execution_count": 11,
     "metadata": {},
     "output_type": "execute_result"
    }
   ],
   "source": [
    "response2.new_messages()"
   ]
  },
  {
   "cell_type": "code",
   "execution_count": 21,
   "metadata": {},
   "outputs": [
    {
     "data": {
      "text/html": [
       "<pre style=\"white-space:pre;overflow-x:auto;line-height:normal;font-family:Menlo,'DejaVu Sans Mono',consolas,'Courier New',monospace\"><span style=\"font-weight: bold\">{</span>\n",
       "  <span style=\"color: #008000; text-decoration-color: #008000\">\"response\"</span>: <span style=\"color: #008000; text-decoration-color: #008000\">\"I can help you track your order.  However, to do so I'll need your email address or phone number </span>\n",
       "<span style=\"color: #008000; text-decoration-color: #008000\">associated with the order.\"</span>,\n",
       "  <span style=\"color: #008000; text-decoration-color: #008000\">\"needs_escalation\"</span>: false,\n",
       "  <span style=\"color: #008000; text-decoration-color: #008000\">\"follow_up_required\"</span>: true,\n",
       "  <span style=\"color: #008000; text-decoration-color: #008000\">\"sentiment\"</span>: <span style=\"color: #008000; text-decoration-color: #008000\">\"neutral\"</span>\n",
       "<span style=\"font-weight: bold\">}</span>\n",
       "</pre>\n"
      ],
      "text/plain": [
       "\u001b[1m{\u001b[0m\n",
       "  \u001b[32m\"response\"\u001b[0m: \u001b[32m\"I can help you track your order.  However, to do so I'll need your email address or phone number \u001b[0m\n",
       "\u001b[32massociated with the order.\"\u001b[0m,\n",
       "  \u001b[32m\"needs_escalation\"\u001b[0m: false,\n",
       "  \u001b[32m\"follow_up_required\"\u001b[0m: true,\n",
       "  \u001b[32m\"sentiment\"\u001b[0m: \u001b[32m\"neutral\"\u001b[0m\n",
       "\u001b[1m}\u001b[0m\n"
      ]
     },
     "metadata": {},
     "output_type": "display_data"
    }
   ],
   "source": [
    "# --------------------------------------------------------------\n",
    "# 2. Agent with Structured Response\n",
    "# --------------------------------------------------------------\n",
    "\"\"\"\n",
    "This example shows how to get structured, type-safe responses from the agent.\n",
    "Key concepts:\n",
    "- Using Pydantic models to define response structure\n",
    "- Type validation and safety\n",
    "- Field descriptions for better model understanding\n",
    "\"\"\"\n",
    "\n",
    "class ResponseModel(BaseModel):\n",
    "    \"\"\"Structured response with metadata.\"\"\"\n",
    "\n",
    "    response: str\n",
    "    needs_escalation: bool\n",
    "    follow_up_required: bool\n",
    "    sentiment: str = Field(description=\"Customer sentiment analysis\")\n",
    "\n",
    "\n",
    "agent2 = Agent(\n",
    "    model=model,\n",
    "    result_type=ResponseModel,\n",
    "    system_prompt=(\n",
    "        \"You are an intelligent customer support agent. \"\n",
    "        \"Analyze queries carefully and provide structured responses.\"\n",
    "    ),\n",
    ")\n",
    "\n",
    "response = agent2.run_sync(\"How can I track my order #12345?\")\n",
    "print(response.data.model_dump_json(indent=2))\n"
   ]
  },
  {
   "cell_type": "code",
   "execution_count": 22,
   "metadata": {},
   "outputs": [
    {
     "data": {
      "text/html": [
       "<pre style=\"white-space:pre;overflow-x:auto;line-height:normal;font-family:Menlo,'DejaVu Sans Mono',consolas,'Courier New',monospace\"><span style=\"color: #800080; text-decoration-color: #800080; font-weight: bold\">ResponseModel</span><span style=\"font-weight: bold\">(</span>\n",
       "    <span style=\"color: #808000; text-decoration-color: #808000\">response</span>=<span style=\"color: #008000; text-decoration-color: #008000\">'I apologize that I could not help you track your order.  I will escalate this issue to a human agent </span>\n",
       "<span style=\"color: #008000; text-decoration-color: #008000\">who can assist you.'</span>,\n",
       "    <span style=\"color: #808000; text-decoration-color: #808000\">needs_escalation</span>=<span style=\"color: #00ff00; text-decoration-color: #00ff00; font-style: italic\">True</span>,\n",
       "    <span style=\"color: #808000; text-decoration-color: #808000\">follow_up_required</span>=<span style=\"color: #00ff00; text-decoration-color: #00ff00; font-style: italic\">True</span>,\n",
       "    <span style=\"color: #808000; text-decoration-color: #808000\">sentiment</span>=<span style=\"color: #008000; text-decoration-color: #008000\">'negative'</span>\n",
       "<span style=\"font-weight: bold\">)</span>\n",
       "</pre>\n"
      ],
      "text/plain": [
       "\u001b[1;35mResponseModel\u001b[0m\u001b[1m(\u001b[0m\n",
       "    \u001b[33mresponse\u001b[0m=\u001b[32m'I apologize that I could not help you track your order.  I will escalate this issue to a human agent \u001b[0m\n",
       "\u001b[32mwho can assist you.'\u001b[0m,\n",
       "    \u001b[33mneeds_escalation\u001b[0m=\u001b[3;92mTrue\u001b[0m,\n",
       "    \u001b[33mfollow_up_required\u001b[0m=\u001b[3;92mTrue\u001b[0m,\n",
       "    \u001b[33msentiment\u001b[0m=\u001b[32m'negative'\u001b[0m\n",
       "\u001b[1m)\u001b[0m\n"
      ]
     },
     "metadata": {},
     "output_type": "display_data"
    }
   ],
   "source": [
    "response2 = agent2.run_sync(\n",
    "    user_prompt=\"I am not satisfied with the service\",\n",
    "    message_history=response.new_messages(),\n",
    ")\n",
    "print(response2.data)"
   ]
  },
  {
   "cell_type": "code",
   "execution_count": 23,
   "metadata": {},
   "outputs": [],
   "source": [
    "from pydantic import BaseModel\n",
    "\n",
    "\n",
    "def to_markdown(data, indent=0):\n",
    "    markdown = \"\"\n",
    "    if isinstance(data, BaseModel):\n",
    "        data = data.model_dump()\n",
    "    if isinstance(data, dict):\n",
    "        for key, value in data.items():\n",
    "            markdown += f\"{'#' * (indent + 2)} {key.upper()}\\n\"\n",
    "            if isinstance(value, (dict, list, BaseModel)):\n",
    "                markdown += to_markdown(value, indent + 1)\n",
    "            else:\n",
    "                markdown += f\"{value}\\n\\n\"\n",
    "    elif isinstance(data, list):\n",
    "        for item in data:\n",
    "            if isinstance(item, (dict, list, BaseModel)):\n",
    "                markdown += to_markdown(item, indent)\n",
    "            else:\n",
    "                markdown += f\"- {item}\\n\"\n",
    "        markdown += \"\\n\"\n",
    "    else:\n",
    "        markdown += f\"{data}\\n\\n\"\n",
    "    return markdown"
   ]
  },
  {
   "cell_type": "code",
   "execution_count": 24,
   "metadata": {},
   "outputs": [
    {
     "data": {
      "text/html": [
       "<pre style=\"white-space:pre;overflow-x:auto;line-height:normal;font-family:Menlo,'DejaVu Sans Mono',consolas,'Courier New',monospace\"><span style=\"font-weight: bold\">{</span>\n",
       "  <span style=\"color: #008000; text-decoration-color: #008000\">\"response\"</span>: <span style=\"color: #008000; text-decoration-color: #008000\">\"Hello John Doe, you ordered a Blue Jeans and a T-Shirt. Your order (12345) has been shipped.\"</span>,\n",
       "  <span style=\"color: #008000; text-decoration-color: #008000\">\"needs_escalation\"</span>: false,\n",
       "  <span style=\"color: #008000; text-decoration-color: #008000\">\"follow_up_required\"</span>: false,\n",
       "  <span style=\"color: #008000; text-decoration-color: #008000\">\"sentiment\"</span>: <span style=\"color: #008000; text-decoration-color: #008000\">\"positive\"</span>\n",
       "<span style=\"font-weight: bold\">}</span>\n",
       "</pre>\n"
      ],
      "text/plain": [
       "\u001b[1m{\u001b[0m\n",
       "  \u001b[32m\"response\"\u001b[0m: \u001b[32m\"Hello John Doe, you ordered a Blue Jeans and a T-Shirt. Your order \u001b[0m\u001b[32m(\u001b[0m\u001b[32m12345\u001b[0m\u001b[32m)\u001b[0m\u001b[32m has been shipped.\"\u001b[0m,\n",
       "  \u001b[32m\"needs_escalation\"\u001b[0m: false,\n",
       "  \u001b[32m\"follow_up_required\"\u001b[0m: false,\n",
       "  \u001b[32m\"sentiment\"\u001b[0m: \u001b[32m\"positive\"\u001b[0m\n",
       "\u001b[1m}\u001b[0m\n"
      ]
     },
     "metadata": {},
     "output_type": "display_data"
    },
    {
     "data": {
      "text/html": [
       "<pre style=\"white-space:pre;overflow-x:auto;line-height:normal;font-family:Menlo,'DejaVu Sans Mono',consolas,'Courier New',monospace\">Customer Details:\n",
       "Name: John Doe\n",
       "Email: john.doe@example.com\n",
       "\n",
       "Response Details:\n",
       "Hello John Doe, you ordered a Blue Jeans and a T-Shirt. Your order <span style=\"font-weight: bold\">(</span><span style=\"color: #008080; text-decoration-color: #008080; font-weight: bold\">12345</span><span style=\"font-weight: bold\">)</span> has been shipped.\n",
       "\n",
       "Status:\n",
       "Follow-up Required: <span style=\"color: #ff0000; text-decoration-color: #ff0000; font-style: italic\">False</span>\n",
       "Needs Escalation: <span style=\"color: #ff0000; text-decoration-color: #ff0000; font-style: italic\">False</span>\n",
       "</pre>\n"
      ],
      "text/plain": [
       "Customer Details:\n",
       "Name: John Doe\n",
       "Email: john.doe@example.com\n",
       "\n",
       "Response Details:\n",
       "Hello John Doe, you ordered a Blue Jeans and a T-Shirt. Your order \u001b[1m(\u001b[0m\u001b[1;36m12345\u001b[0m\u001b[1m)\u001b[0m has been shipped.\n",
       "\n",
       "Status:\n",
       "Follow-up Required: \u001b[3;91mFalse\u001b[0m\n",
       "Needs Escalation: \u001b[3;91mFalse\u001b[0m\n"
      ]
     },
     "metadata": {},
     "output_type": "display_data"
    }
   ],
   "source": [
    "# --------------------------------------------------------------\n",
    "# 3. Agent with Structured Response & Dependencies\n",
    "# --------------------------------------------------------------\n",
    "\"\"\"\n",
    "This example demonstrates how to use dependencies and context in agents.\n",
    "Key concepts:\n",
    "- Defining complex data models with Pydantic\n",
    "- Injecting runtime dependencies\n",
    "- Using dynamic system prompts\n",
    "\"\"\"\n",
    "\n",
    "\n",
    "# Define order schema\n",
    "class Order(BaseModel):\n",
    "    \"\"\"Structure for order details.\"\"\"\n",
    "\n",
    "    order_id: str\n",
    "    status: str\n",
    "    items: List[str]\n",
    "\n",
    "\n",
    "# Define customer schema\n",
    "class CustomerDetails(BaseModel):\n",
    "    \"\"\"Structure for incoming customer queries.\"\"\"\n",
    "\n",
    "    customer_id: str\n",
    "    name: str\n",
    "    email: str\n",
    "    orders: Optional[List[Order]] = None\n",
    "\n",
    "\n",
    "# Agent with structured output and dependencies\n",
    "agent5 = Agent(\n",
    "    model=model,\n",
    "    result_type=ResponseModel,\n",
    "    deps_type=CustomerDetails,\n",
    "    retries=3,\n",
    "    system_prompt=(\n",
    "        \"You are an intelligent customer support agent. \"\n",
    "        \"Analyze queries carefully and provide structured responses. \"\n",
    "        \"Always greet the customer and provide a helpful response.\"\n",
    "    ),  # These are known when writing the code\n",
    ")\n",
    "\n",
    "\n",
    "# Add dynamic system prompt based on dependencies\n",
    "@agent5.system_prompt\n",
    "async def add_customer_name(ctx: RunContext[CustomerDetails]) -> str:\n",
    "    return f\"Customer details: {to_markdown(ctx.deps)}\"  # These depend in some way on context that isn't known until runtime\n",
    "\n",
    "\n",
    "customer = CustomerDetails(\n",
    "    customer_id=\"1\",\n",
    "    name=\"John Doe\",\n",
    "    email=\"john.doe@example.com\",\n",
    "    orders=[\n",
    "        Order(order_id=\"12345\", status=\"shipped\", items=[\"Blue Jeans\", \"T-Shirt\"]),\n",
    "    ],\n",
    ")\n",
    "\n",
    "response = agent5.run_sync(user_prompt=\"What did I order?\", deps=customer)\n",
    "\n",
    "response.all_messages()\n",
    "print(response.data.model_dump_json(indent=2))\n",
    "\n",
    "print(\n",
    "    \"Customer Details:\\n\"\n",
    "    f\"Name: {customer.name}\\n\"\n",
    "    f\"Email: {customer.email}\\n\\n\"\n",
    "    \"Response Details:\\n\"\n",
    "    f\"{response.data.response}\\n\\n\"\n",
    "    \"Status:\\n\"\n",
    "    f\"Follow-up Required: {response.data.follow_up_required}\\n\"\n",
    "    f\"Needs Escalation: {response.data.needs_escalation}\"\n",
    ")\n"
   ]
  },
  {
   "cell_type": "code",
   "execution_count": 25,
   "metadata": {},
   "outputs": [],
   "source": [
    "response = agent5.run_sync(user_prompt=\"thanks\")"
   ]
  },
  {
   "cell_type": "code",
   "execution_count": 27,
   "metadata": {},
   "outputs": [
    {
     "data": {
      "text/html": [
       "<pre style=\"white-space:pre;overflow-x:auto;line-height:normal;font-family:Menlo,'DejaVu Sans Mono',consolas,'Courier New',monospace\"><span style=\"color: #800080; text-decoration-color: #800080; font-weight: bold\">ResponseModel</span><span style=\"font-weight: bold\">(</span>\n",
       "    <span style=\"color: #808000; text-decoration-color: #808000\">response</span>=<span style=\"color: #008000; text-decoration-color: #008000\">\"You're welcome! Is there anything else I can help you with?\"</span>,\n",
       "    <span style=\"color: #808000; text-decoration-color: #808000\">needs_escalation</span>=<span style=\"color: #ff0000; text-decoration-color: #ff0000; font-style: italic\">False</span>,\n",
       "    <span style=\"color: #808000; text-decoration-color: #808000\">follow_up_required</span>=<span style=\"color: #ff0000; text-decoration-color: #ff0000; font-style: italic\">False</span>,\n",
       "    <span style=\"color: #808000; text-decoration-color: #808000\">sentiment</span>=<span style=\"color: #008000; text-decoration-color: #008000\">'positive'</span>\n",
       "<span style=\"font-weight: bold\">)</span>\n",
       "</pre>\n"
      ],
      "text/plain": [
       "\u001b[1;35mResponseModel\u001b[0m\u001b[1m(\u001b[0m\n",
       "    \u001b[33mresponse\u001b[0m=\u001b[32m\"You\u001b[0m\u001b[32m're welcome! Is there anything else I can help you with?\"\u001b[0m,\n",
       "    \u001b[33mneeds_escalation\u001b[0m=\u001b[3;91mFalse\u001b[0m,\n",
       "    \u001b[33mfollow_up_required\u001b[0m=\u001b[3;91mFalse\u001b[0m,\n",
       "    \u001b[33msentiment\u001b[0m=\u001b[32m'positive'\u001b[0m\n",
       "\u001b[1m)\u001b[0m\n"
      ]
     },
     "metadata": {},
     "output_type": "display_data"
    }
   ],
   "source": [
    "print(response.data)"
   ]
  },
  {
   "cell_type": "code",
   "execution_count": 28,
   "metadata": {},
   "outputs": [
    {
     "data": {
      "text/html": [
       "<pre style=\"white-space:pre;overflow-x:auto;line-height:normal;font-family:Menlo,'DejaVu Sans Mono',consolas,'Courier New',monospace\"><span style=\"font-weight: bold\">{</span>\n",
       "  <span style=\"color: #008000; text-decoration-color: #008000\">\"response\"</span>: <span style=\"color: #008000; text-decoration-color: #008000\">\"Your order (12345) has shipped on 2024-12-01.\"</span>,\n",
       "  <span style=\"color: #008000; text-decoration-color: #008000\">\"needs_escalation\"</span>: false,\n",
       "  <span style=\"color: #008000; text-decoration-color: #008000\">\"follow_up_required\"</span>: false,\n",
       "  <span style=\"color: #008000; text-decoration-color: #008000\">\"sentiment\"</span>: <span style=\"color: #008000; text-decoration-color: #008000\">\"positive\"</span>\n",
       "<span style=\"font-weight: bold\">}</span>\n",
       "</pre>\n"
      ],
      "text/plain": [
       "\u001b[1m{\u001b[0m\n",
       "  \u001b[32m\"response\"\u001b[0m: \u001b[32m\"Your order \u001b[0m\u001b[32m(\u001b[0m\u001b[32m12345\u001b[0m\u001b[32m)\u001b[0m\u001b[32m has shipped on 2024-12-01.\"\u001b[0m,\n",
       "  \u001b[32m\"needs_escalation\"\u001b[0m: false,\n",
       "  \u001b[32m\"follow_up_required\"\u001b[0m: false,\n",
       "  \u001b[32m\"sentiment\"\u001b[0m: \u001b[32m\"positive\"\u001b[0m\n",
       "\u001b[1m}\u001b[0m\n"
      ]
     },
     "metadata": {},
     "output_type": "display_data"
    },
    {
     "data": {
      "text/html": [
       "<pre style=\"white-space:pre;overflow-x:auto;line-height:normal;font-family:Menlo,'DejaVu Sans Mono',consolas,'Courier New',monospace\">Customer Details:\n",
       "Name: John Doe\n",
       "Email: john.doe@example.com\n",
       "\n",
       "Response Details:\n",
       "Your order <span style=\"font-weight: bold\">(</span><span style=\"color: #008080; text-decoration-color: #008080; font-weight: bold\">12345</span><span style=\"font-weight: bold\">)</span> has shipped on <span style=\"color: #008080; text-decoration-color: #008080; font-weight: bold\">2024</span>-<span style=\"color: #008080; text-decoration-color: #008080; font-weight: bold\">12</span>-<span style=\"color: #008080; text-decoration-color: #008080; font-weight: bold\">01</span>.\n",
       "\n",
       "Status:\n",
       "Follow-up Required: <span style=\"color: #ff0000; text-decoration-color: #ff0000; font-style: italic\">False</span>\n",
       "Needs Escalation: <span style=\"color: #ff0000; text-decoration-color: #ff0000; font-style: italic\">False</span>\n",
       "</pre>\n"
      ],
      "text/plain": [
       "Customer Details:\n",
       "Name: John Doe\n",
       "Email: john.doe@example.com\n",
       "\n",
       "Response Details:\n",
       "Your order \u001b[1m(\u001b[0m\u001b[1;36m12345\u001b[0m\u001b[1m)\u001b[0m has shipped on \u001b[1;36m2024\u001b[0m-\u001b[1;36m12\u001b[0m-\u001b[1;36m01\u001b[0m.\n",
       "\n",
       "Status:\n",
       "Follow-up Required: \u001b[3;91mFalse\u001b[0m\n",
       "Needs Escalation: \u001b[3;91mFalse\u001b[0m\n"
      ]
     },
     "metadata": {},
     "output_type": "display_data"
    }
   ],
   "source": [
    "# --------------------------------------------------------------\n",
    "# 4. Agent with Tools\n",
    "# --------------------------------------------------------------\n",
    "\n",
    "\"\"\"\n",
    "This example shows how to enhance agents with custom tools.\n",
    "Key concepts:\n",
    "- Creating and registering tools\n",
    "- Accessing context in tools\n",
    "\"\"\"\n",
    "\n",
    "shipping_info_db: Dict[str, str] = {\n",
    "    \"12345\": \"Shipped on 2024-12-01\",\n",
    "    \"67890\": \"Out for delivery\",\n",
    "}\n",
    "\n",
    "\n",
    "def get_shipping_info(ctx: RunContext[CustomerDetails]) -> str:\n",
    "    \"\"\"Get the customer's shipping information.\"\"\"\n",
    "    return shipping_info_db[ctx.deps.orders[0].order_id]\n",
    "\n",
    "\n",
    "# Agent with structured output and dependencies\n",
    "agent5 = Agent(\n",
    "    model=model,\n",
    "    result_type=ResponseModel,\n",
    "    deps_type=CustomerDetails,\n",
    "    retries=3,\n",
    "    system_prompt=(\n",
    "        \"You are an intelligent customer support agent. \"\n",
    "        \"Analyze queries carefully and provide structured responses. \"\n",
    "        \"Use tools to look up relevant information.\"\n",
    "        \"Always greet the customer and provide a helpful response.\"\n",
    "    ),  # These are known when writing the code\n",
    "    tools=[Tool(get_shipping_info, takes_ctx=True)],  # Add tool via kwarg\n",
    ")\n",
    "\n",
    "\n",
    "@agent5.system_prompt\n",
    "async def add_customer_name(ctx: RunContext[CustomerDetails]) -> str:\n",
    "    return f\"Customer details: {to_markdown(ctx.deps)}\"\n",
    "\n",
    "\n",
    "response = agent5.run_sync(\n",
    "    user_prompt=\"What's the status of my last order?\", deps=customer\n",
    ")\n",
    "\n",
    "response.all_messages()\n",
    "print(response.data.model_dump_json(indent=2))\n",
    "\n",
    "print(\n",
    "    \"Customer Details:\\n\"\n",
    "    f\"Name: {customer.name}\\n\"\n",
    "    f\"Email: {customer.email}\\n\\n\"\n",
    "    \"Response Details:\\n\"\n",
    "    f\"{response.data.response}\\n\\n\"\n",
    "    \"Status:\\n\"\n",
    "    f\"Follow-up Required: {response.data.follow_up_required}\\n\"\n",
    "    f\"Needs Escalation: {response.data.needs_escalation}\"\n",
    ")\n",
    "\n"
   ]
  },
  {
   "cell_type": "code",
   "execution_count": 36,
   "metadata": {},
   "outputs": [
    {
     "data": {
      "text/plain": [
       "[ModelRequest(parts=[SystemPromptPart(content='You are an intelligent customer support agent. Analyze queries carefully and provide structured responses. Use tools to look up relevant information. Always greet the customer and provide a helpful response.', dynamic_ref=None, part_kind='system-prompt'), UserPromptPart(content=\"What's the status of my last order 12345?\", timestamp=datetime.datetime(2025, 1, 16, 16, 1, 19, 142663, tzinfo=datetime.timezone.utc), part_kind='user-prompt')], kind='request'),\n",
       " ModelResponse(parts=[ToolCallPart(tool_name='get_shipping_status', args=ArgsDict(args_dict={'order_id': '12345'}), tool_call_id=None, part_kind='tool-call')], timestamp=datetime.datetime(2025, 1, 16, 16, 1, 21, 667406, tzinfo=datetime.timezone.utc), kind='response'),\n",
       " ModelRequest(parts=[RetryPromptPart(content='No shipping information found for order ID 12345. Make sure the order ID starts with a #: e.g, #624743 Self-correct this if needed and try again the tool', tool_name='get_shipping_status', tool_call_id=None, timestamp=datetime.datetime(2025, 1, 16, 16, 1, 21, 672515, tzinfo=datetime.timezone.utc), part_kind='retry-prompt')], kind='request'),\n",
       " ModelResponse(parts=[ToolCallPart(tool_name='get_shipping_status', args=ArgsDict(args_dict={'order_id': '#12345'}), tool_call_id=None, part_kind='tool-call')], timestamp=datetime.datetime(2025, 1, 16, 16, 1, 23, 100944, tzinfo=datetime.timezone.utc), kind='response'),\n",
       " ModelRequest(parts=[ToolReturnPart(tool_name='get_shipping_status', content='Shipped on 2024-12-01', tool_call_id=None, timestamp=datetime.datetime(2025, 1, 16, 16, 1, 23, 103875, tzinfo=datetime.timezone.utc), part_kind='tool-return')], kind='request'),\n",
       " ModelResponse(parts=[ToolCallPart(tool_name='final_result', args=ArgsDict(args_dict={'needs_escalation': False, 'follow_up_required': False, 'sentiment': 'positive', 'response': 'Your order #12345 was shipped on 2024-12-01.'}), tool_call_id=None, part_kind='tool-call')], timestamp=datetime.datetime(2025, 1, 16, 16, 1, 33, 696699, tzinfo=datetime.timezone.utc), kind='response'),\n",
       " ModelRequest(parts=[ToolReturnPart(tool_name='final_result', content='Final result processed.', tool_call_id=None, timestamp=datetime.datetime(2025, 1, 16, 16, 1, 33, 702830, tzinfo=datetime.timezone.utc), part_kind='tool-return')], kind='request')]"
      ]
     },
     "metadata": {},
     "output_type": "display_data"
    },
    {
     "data": {
      "text/html": [
       "<pre style=\"white-space:pre;overflow-x:auto;line-height:normal;font-family:Menlo,'DejaVu Sans Mono',consolas,'Courier New',monospace\"><span style=\"font-weight: bold\">{</span>\n",
       "  <span style=\"color: #008000; text-decoration-color: #008000\">\"response\"</span>: <span style=\"color: #008000; text-decoration-color: #008000\">\"Your order #12345 was shipped on 2024-12-01.\"</span>,\n",
       "  <span style=\"color: #008000; text-decoration-color: #008000\">\"needs_escalation\"</span>: false,\n",
       "  <span style=\"color: #008000; text-decoration-color: #008000\">\"follow_up_required\"</span>: false,\n",
       "  <span style=\"color: #008000; text-decoration-color: #008000\">\"sentiment\"</span>: <span style=\"color: #008000; text-decoration-color: #008000\">\"positive\"</span>\n",
       "<span style=\"font-weight: bold\">}</span>\n",
       "</pre>\n"
      ],
      "text/plain": [
       "\u001b[1m{\u001b[0m\n",
       "  \u001b[32m\"response\"\u001b[0m: \u001b[32m\"Your order #12345 was shipped on 2024-12-01.\"\u001b[0m,\n",
       "  \u001b[32m\"needs_escalation\"\u001b[0m: false,\n",
       "  \u001b[32m\"follow_up_required\"\u001b[0m: false,\n",
       "  \u001b[32m\"sentiment\"\u001b[0m: \u001b[32m\"positive\"\u001b[0m\n",
       "\u001b[1m}\u001b[0m\n"
      ]
     },
     "metadata": {},
     "output_type": "display_data"
    }
   ],
   "source": [
    "\n",
    "# --------------------------------------------------------------\n",
    "# 5. Agent with Reflection and Self-Correction\n",
    "# --------------------------------------------------------------\n",
    "\n",
    "\"\"\"\n",
    "This example demonstrates advanced agent capabilities with self-correction.\n",
    "Key concepts:\n",
    "- Implementing self-reflection\n",
    "- Handling errors gracefully with retries\n",
    "- Using ModelRetry for automatic retries\n",
    "- Decorator-based tool registration\n",
    "\"\"\"\n",
    "\n",
    "# Simulated database of shipping information\n",
    "shipping_info_db: Dict[str, str] = {\n",
    "    \"#12345\": \"Shipped on 2024-12-01\",\n",
    "    \"#67890\": \"Out for delivery\",\n",
    "}\n",
    "\n",
    "customer = CustomerDetails(\n",
    "    customer_id=\"1\",\n",
    "    name=\"John Doe\",\n",
    "    email=\"john.doe@example.com\",\n",
    ")\n",
    "\n",
    "# Agent with reflection and self-correction\n",
    "agent5 = Agent(\n",
    "    model=model,\n",
    "    result_type=ResponseModel,\n",
    "    deps_type=CustomerDetails,\n",
    "    retries=3,\n",
    "    system_prompt=(\n",
    "        \"You are an intelligent customer support agent. \"\n",
    "        \"Analyze queries carefully and provide structured responses. \"\n",
    "        \"Use tools to look up relevant information. \"\n",
    "        \"Always greet the customer and provide a helpful response.\"\n",
    "    ),\n",
    ")\n",
    "\n",
    "\n",
    "@agent5.tool_plain()  # Add plain tool via decorator\n",
    "def get_shipping_status(order_id: str) -> str:\n",
    "    \"\"\"Get the shipping status for a given order ID.\"\"\"\n",
    "    shipping_status = shipping_info_db.get(order_id)\n",
    "    if shipping_status is None:\n",
    "        raise ModelRetry(\n",
    "            f\"No shipping information found for order ID {order_id}. \"\n",
    "            \"Make sure the order ID starts with a #: e.g, #624743 \"\n",
    "            \"Self-correct this if needed and try again the tool\"\n",
    "        )\n",
    "    return shipping_info_db[order_id]\n",
    "\n",
    "\n",
    "# Example usage\n",
    "response = agent5.run_sync(\n",
    "    user_prompt=\"What's the status of my last order 12345?\", deps=customer\n",
    ")\n",
    "\n",
    "display(response.all_messages())\n",
    "print(response.data.model_dump_json(indent=2))"
   ]
  }
 ],
 "metadata": {
  "kernelspec": {
   "display_name": "Python 3",
   "language": "python",
   "name": "python3"
  },
  "language_info": {
   "codemirror_mode": {
    "name": "ipython",
    "version": 3
   },
   "file_extension": ".py",
   "mimetype": "text/x-python",
   "name": "python",
   "nbconvert_exporter": "python",
   "pygments_lexer": "ipython3",
   "version": "3.12.8"
  }
 },
 "nbformat": 4,
 "nbformat_minor": 2
}
